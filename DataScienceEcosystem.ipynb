{
 "cells": [
  {
   "cell_type": "markdown",
   "id": "38e18e86-41d9-4717-a400-9b1dc9111f8c",
   "metadata": {},
   "source": [
    "<h1> Data Science Tools and Ecosystems </h1>"
   ]
  },
  {
   "cell_type": "markdown",
   "id": "5bf48791-7670-4914-b983-1bd9d7cbda93",
   "metadata": {},
   "source": [
    "In this notebook, Data Science Tools and Ecosystem are summarized."
   ]
  },
  {
   "cell_type": "markdown",
   "id": "9246164d-6634-42cf-81ef-d4844862ba6c",
   "metadata": {},
   "source": [
    "**Objectives:**\n",
    "<ul>\n",
    "    <li>Popular languages that Data Scientists uses</li>\n",
    "    <li>Commonly used libraries used by Data Scientists</li>\n",
    "    <li>Few examples of evaluating arithmetic expressions in Python</li>\n",
    "    <li>Converting Minutes to Hours</li>\n",
    "</ul>\n"
   ]
  },
  {
   "cell_type": "markdown",
   "id": "abd10677-2f1b-43b4-bdf9-7cfb98a17c87",
   "metadata": {},
   "source": [
    "Some of the popular languages that Data Scientists use are:\n",
    "\n",
    "1. Python\n",
    "2. R programming \n",
    "3. SQL\n",
    "4. JAVA\n",
    "5. Scala\n",
    "6. Julia"
   ]
  },
  {
   "cell_type": "markdown",
   "id": "28e01eef-3e80-4291-8bb5-fb8d145b4615",
   "metadata": {},
   "source": [
    "Some of the commonly used libraries used by Data Scientists include:\n",
    "\n",
    "1. Numpy\n",
    "2. Pandas\n",
    "3. Scikit-Learn\n",
    "4. PyTorch\n",
    "5. Matplotlib"
   ]
  },
  {
   "cell_type": "markdown",
   "id": "2535693c-d204-4a10-b4b5-425972abef34",
   "metadata": {},
   "source": [
    "| Data Science Tools |\n",
    "----------------------\n",
    "|TenserFlow     |\n",
    "|Apache Spark    |\n",
    "|RStudio        |"
   ]
  },
  {
   "cell_type": "markdown",
   "id": "cf772d23-2c89-4186-9001-fb0f6119bbfe",
   "metadata": {},
   "source": [
    "<h3> Below are a few examples of evaluating arithmetic expressions in Python </h3>"
   ]
  },
  {
   "cell_type": "code",
   "execution_count": 4,
   "id": "2001f192-b9fb-4241-beb1-ca70d75978fc",
   "metadata": {
    "tags": []
   },
   "outputs": [
    {
     "data": {
      "text/plain": [
       "17"
      ]
     },
     "execution_count": 4,
     "metadata": {},
     "output_type": "execute_result"
    }
   ],
   "source": [
    "# This a simple arithmetic expression to mutiply then add integers\n",
    "(3*4)+5"
   ]
  },
  {
   "cell_type": "code",
   "execution_count": 3,
   "id": "566355d6-6019-41f6-b209-5c37a1c778b3",
   "metadata": {
    "tags": []
   },
   "outputs": [
    {
     "name": "stdout",
     "output_type": "stream",
     "text": [
      "3.3333333333333335\n"
     ]
    }
   ],
   "source": [
    "# This will convert 200 minutes to hours by diving by 60\n",
    "Minutes = 200\n",
    "hours = Minutes/60\n",
    "print(hours)"
   ]
  },
  {
   "cell_type": "markdown",
   "id": "cc2fc028-cb68-4b60-a87e-787035d4ae58",
   "metadata": {},
   "source": [
    "<h2> Author </h2>\n",
    "\n",
    "**Rishabh Sinha**"
   ]
  },
  {
   "cell_type": "code",
   "execution_count": null,
   "id": "159e2a47-75a7-4d98-a9cf-43a681dd60b6",
   "metadata": {},
   "outputs": [],
   "source": []
  }
 ],
 "metadata": {
  "kernelspec": {
   "display_name": "Python",
   "language": "python",
   "name": "conda-env-python-py"
  },
  "language_info": {
   "codemirror_mode": {
    "name": "ipython",
    "version": 3
   },
   "file_extension": ".py",
   "mimetype": "text/x-python",
   "name": "python",
   "nbconvert_exporter": "python",
   "pygments_lexer": "ipython3",
   "version": "3.7.12"
  }
 },
 "nbformat": 4,
 "nbformat_minor": 5
}
